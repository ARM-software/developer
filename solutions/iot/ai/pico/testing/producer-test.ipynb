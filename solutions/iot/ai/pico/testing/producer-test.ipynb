{
 "cells": [
  {
   "cell_type": "code",
   "execution_count": 2,
   "metadata": {},
   "outputs": [
    {
     "ename": "SyntaxError",
     "evalue": "invalid syntax (<ipython-input-2-17fa6b756d7e>, line 51)",
     "output_type": "error",
     "traceback": [
      "\u001b[1;36m  File \u001b[1;32m\"<ipython-input-2-17fa6b756d7e>\"\u001b[1;36m, line \u001b[1;32m51\u001b[0m\n\u001b[1;33m    camera.\u001b[0m\n\u001b[1;37m           ^\u001b[0m\n\u001b[1;31mSyntaxError\u001b[0m\u001b[1;31m:\u001b[0m invalid syntax\n"
     ]
    }
   ],
   "source": [
    "import sys\n",
    "import time\n",
    "import cv2\n",
    "import json\n",
    "import decimal\n",
    "\n",
    "\n",
    "import pytz\n",
    "from pytz import timezone\n",
    "import datetime\n",
    "\n",
    "\n",
    "from kafka import KafkaProducer\n",
    "from kafka.errors import KafkaError\n",
    "import base64 \n",
    "\n",
    "topic = \"testpico\"\n",
    "brokers = [\"35.189.130.4:9092\"]\n",
    "\n",
    "\n",
    "def convert_ts(ts, config):\n",
    "    '''Converts a timestamp to the configured timezone. Returns a localized datetime object.'''\n",
    "    #lambda_tz = timezone('US/Pacific')\n",
    "    tz = timezone(config['timezone'])\n",
    "    utc = pytz.utc\n",
    "    \n",
    "    utc_dt = utc.localize(datetime.datetime.utcfromtimestamp(ts))\n",
    "\n",
    "    localized_dt = utc_dt.astimezone(tz)\n",
    "\n",
    "    return localized_dt\n",
    "\n",
    "\n",
    "def publish_camera():\n",
    "    \"\"\"\n",
    "    Publish camera video stream to specified Kafka topic.\n",
    "    Kafka Server is expected to be running on the localhost. Not partitioned.\n",
    "    \"\"\"\n",
    "\n",
    "    # Start up producer\n",
    "    \n",
    "    \n",
    "    producer = KafkaProducer(bootstrap_servers=brokers,\n",
    "                            value_serializer=lambda v: json.dumps(v).encode('utf-8'))\n",
    "\n",
    "    \n",
    "    camera_data = {'camera_id':\"1\",\"position\":\"frontspace\",\"image_bytes\":\"123\"}\n",
    "    \n",
    "    camera = cv2.VideoCapture(0)\n",
    "    \n",
    "    camera.\n",
    "    \n",
    "    framecount = 0\n",
    "    \n",
    "    try:\n",
    "        while(True):\n",
    "            \n",
    "            success, frame = camera.read()\n",
    "            \n",
    "            utc_dt = pytz.utc.localize(datetime.datetime.now())\n",
    "            now_ts_utc = (utc_dt - datetime.datetime(1970, 1, 1, tzinfo=pytz.utc)).total_seconds()\n",
    "        \n",
    "            ret, buffer = cv2.imencode('.jpg', frame)\n",
    "            \n",
    "            camera_data['image_bytes'] = base64.b64encode(buffer).decode('utf-8')\n",
    "            \n",
    "            camera_data['frame_count'] = str(framecount)\n",
    "            \n",
    "            camera_data['capture_time'] = str(now_ts_utc)\n",
    "            \n",
    "            producer.send(topic, camera_data)\n",
    "            \n",
    "            framecount = framecount + 1\n",
    "            \n",
    "            # Choppier stream, reduced load on processor\n",
    "            time.sleep(0.2)\n",
    "            \n",
    "            if framecount==20:\n",
    "                break\n",
    "            \n",
    "    except Exception as e:\n",
    "        print((e))\n",
    "        print(\"\\nExiting.\")\n",
    "        sys.exit(1)\n",
    "\n",
    "    \n",
    "    camera.release()\n",
    "    producer.close()\n",
    "\n",
    "\n",
    "if __name__ == \"__main__\":\n",
    "    publish_camera()\n"
   ]
  },
  {
   "cell_type": "code",
   "execution_count": 3,
   "metadata": {
    "collapsed": true
   },
   "outputs": [],
   "source": [
    "camera = cv2.VideoCapture(0)"
   ]
  },
  {
   "cell_type": "code",
   "execution_count": 4,
   "metadata": {},
   "outputs": [
    {
     "data": {
      "text/plain": [
       "True"
      ]
     },
     "execution_count": 4,
     "metadata": {},
     "output_type": "execute_result"
    }
   ],
   "source": [
    "camera.set(cv2.CAP_PROP_FRAME_WIDTH,3840)\n",
    "\n",
    "camera.set(cv2.CAP_PROP_FRAME_HEIGHT,2160)\n",
    "\n",
    "camera.set(cv2.CAP_PROP_FPS,30)"
   ]
  },
  {
   "cell_type": "code",
   "execution_count": 9,
   "metadata": {},
   "outputs": [
    {
     "data": {
      "text/plain": [
       "-1.0"
      ]
     },
     "execution_count": 9,
     "metadata": {},
     "output_type": "execute_result"
    }
   ],
   "source": [
    "camera.get(cv2.CAP_PROP_FRAME_COUNT)"
   ]
  },
  {
   "cell_type": "code",
   "execution_count": null,
   "metadata": {
    "collapsed": true
   },
   "outputs": [],
   "source": []
  }
 ],
 "metadata": {
  "kernelspec": {
   "display_name": "Python 3",
   "language": "python",
   "name": "python3"
  },
  "language_info": {
   "codemirror_mode": {
    "name": "ipython",
    "version": 3
   },
   "file_extension": ".py",
   "mimetype": "text/x-python",
   "name": "python",
   "nbconvert_exporter": "python",
   "pygments_lexer": "ipython3",
   "version": "3.6.2"
  }
 },
 "nbformat": 4,
 "nbformat_minor": 2
}
