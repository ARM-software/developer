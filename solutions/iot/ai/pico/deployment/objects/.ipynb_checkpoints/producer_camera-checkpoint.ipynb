{
 "cells": [
  {
   "cell_type": "code",
   "execution_count": null,
   "metadata": {
    "collapsed": true
   },
   "outputs": [],
   "source": [
    "import sys\n",
    "import time\n",
    "import cv2\n",
    "import json\n",
    "import decimal\n",
    "\n",
    "\n",
    "import pytz\n",
    "from pytz import timezone\n",
    "import datetime\n",
    "\n",
    "\n",
    "from kafka import KafkaProducer\n",
    "from kafka.errors import KafkaError\n",
    "import base64\n",
    "\n",
    "topic = \"image-pool\"\n",
    "brokers = [\"35.221.215.135:9092\"]\n",
    "\n",
    "camera_data = {'camera_id':'1',\n",
    "               'position':'frontspace',\n",
    "               'image_bytes':'123'}\n",
    "\n",
    "\n",
    "# In[18]:\n",
    "\n",
    "\n",
    "def convert_ts(ts, config):\n",
    "    '''Converts a timestamp to the configured timezone. Returns a localized datetime object.'''\n",
    "    #lambda_tz = timezone('US/Pacific')\n",
    "    tz = timezone(config['timezone'])\n",
    "    utc = pytz.utc\n",
    "\n",
    "    utc_dt = utc.localize(datetime.datetime.utcfromtimestamp(ts))\n",
    "\n",
    "    localized_dt = utc_dt.astimezone(tz)\n",
    "\n",
    "    return localized_dt\n",
    "\n",
    "\n",
    "def publish_camera():\n",
    "    \"\"\"\n",
    "    Publish camera video stream to specified Kafka topic.\n",
    "    Kafka Server is expected to be running on the localhost. Not partitioned.\n",
    "    \"\"\"\n",
    "\n",
    "    # Start up producer\n",
    "\n",
    "\n",
    "    producer = KafkaProducer(bootstrap_servers=brokers,\n",
    "                            value_serializer=lambda v: json.dumps(v).encode('utf-8'))\n",
    "\n",
    "    camera = cv2.VideoCapture(0)\n",
    "\n",
    "    framecount = 0\n",
    "\n",
    "    try:\n",
    "        while(True):\n",
    "\n",
    "            success, frame = camera.read()\n",
    "\n",
    "            utc_dt = pytz.utc.localize(datetime.datetime.now())\n",
    "            now_ts_utc = (utc_dt - datetime.datetime(1970, 1, 1, tzinfo=pytz.utc)).total_seconds()\n",
    "\n",
    "            ret, buffer = cv2.imencode('.jpg', frame)\n",
    "\n",
    "            camera_data['image_bytes'] = base64.b64encode(buffer).decode('utf-8')\n",
    "\n",
    "            camera_data['frame_count'] = str(framecount)\n",
    "\n",
    "            camera_data['capture_time'] = str(now_ts_utc)\n",
    "\n",
    "            producer.send(topic, camera_data)\n",
    "\n",
    "            framecount = framecount + 1\n",
    "\n",
    "            # Choppier stream, reduced load on processor\n",
    "            time.sleep(0.002)\n",
    "\n",
    "\n",
    "    except Exception as e:\n",
    "        print((e))\n",
    "        print(\"\\nExiting.\")\n",
    "        sys.exit(1)\n",
    "\n",
    "\n",
    "    camera.release()\n",
    "    producer.close()\n",
    "\n",
    "\n",
    "\n",
    "# In[19]:\n",
    "\n",
    "\n",
    "if __name__ == \"__main__\":\n",
    "    publish_camera()"
   ]
  },
  {
   "cell_type": "code",
   "execution_count": null,
   "metadata": {
    "collapsed": true
   },
   "outputs": [],
   "source": []
  },
  {
   "cell_type": "code",
   "execution_count": null,
   "metadata": {
    "collapsed": true
   },
   "outputs": [],
   "source": []
  },
  {
   "cell_type": "code",
   "execution_count": null,
   "metadata": {
    "collapsed": true
   },
   "outputs": [],
   "source": []
  }
 ],
 "metadata": {
  "kernelspec": {
   "display_name": "Python 3",
   "language": "python",
   "name": "python3"
  },
  "language_info": {
   "codemirror_mode": {
    "name": "ipython",
    "version": 3
   },
   "file_extension": ".py",
   "mimetype": "text/x-python",
   "name": "python",
   "nbconvert_exporter": "python",
   "pygments_lexer": "ipython3",
   "version": "3.6.2"
  }
 },
 "nbformat": 4,
 "nbformat_minor": 2
}
