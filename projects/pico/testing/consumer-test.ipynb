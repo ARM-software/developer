{
 "cells": [
  {
   "cell_type": "code",
   "execution_count": 9,
   "metadata": {},
   "outputs": [
    {
     "name": "stdout",
     "output_type": "stream",
     "text": [
      " * Serving Flask app \"__main__\" (lazy loading)\n",
      " * Environment: production\n",
      "   WARNING: This is a development server. Do not use it in a production deployment.\n",
      "   Use a production WSGI server instead.\n",
      " * Debug mode: on\n"
     ]
    },
    {
     "name": "stderr",
     "output_type": "stream",
     "text": [
      " * Restarting with stat\n"
     ]
    },
    {
     "ename": "SystemExit",
     "evalue": "1",
     "output_type": "error",
     "traceback": [
      "An exception has occurred, use %tb to see the full traceback.\n",
      "\u001b[1;31mSystemExit\u001b[0m\u001b[1;31m:\u001b[0m 1\n"
     ]
    },
    {
     "name": "stderr",
     "output_type": "stream",
     "text": [
      "C:\\Users\\Avinash Bendigeri\\AppData\\Local\\conda\\conda\\envs\\restframework\\lib\\site-packages\\IPython\\core\\interactiveshell.py:2870: UserWarning: To exit: use 'exit', 'quit', or Ctrl-D.\n",
      "  warn(\"To exit: use 'exit', 'quit', or Ctrl-D.\", stacklevel=1)\n"
     ]
    }
   ],
   "source": [
    "import datetime\n",
    "from flask import Flask, Response, render_template\n",
    "from kafka import KafkaConsumer\n",
    "import json\n",
    "import base64\n",
    "\n",
    "# Fire up the Kafka Consumer\n",
    "camera_topic_1 = \"camera1\"\n",
    "\n",
    "brokers = [\"35.189.130.4:9092\"]\n",
    "\n",
    "camera1 = KafkaConsumer(\n",
    "    camera_topic_1, \n",
    "    bootstrap_servers=brokers,\n",
    "    value_deserializer=lambda m: json.loads(m.decode('utf-8')))\n",
    "\n",
    "# Set the consumer in a Flask App\n",
    "app = Flask(__name__)\n",
    "\n",
    "@app.route('/')\n",
    "def index():\n",
    "    return render_template('index.html')\n",
    "\n",
    "@app.route('/camera_1', methods=['GET'])\n",
    "def camera_1():\n",
    "    id=5\n",
    "    \"\"\"\n",
    "    This is the heart of our video display. Notice we set the mimetype to \n",
    "    multipart/x-mixed-replace. This tells Flask to replace any old images with \n",
    "    new values streaming through the pipeline.\n",
    "    \"\"\"\n",
    "    return Response(\n",
    "        getCamera1(), \n",
    "        mimetype='multipart/x-mixed-replace; boundary=frame')\n",
    "\n",
    "\n",
    "def getCamera1():\n",
    "    \"\"\"\n",
    "    Here is where we recieve streamed images from the Kafka Server and convert \n",
    "    them to a Flask-readable format.\n",
    "    \"\"\"\n",
    "    for msg in camera1:\n",
    "        yield (b'--frame\\r\\n'\n",
    "               b'Content-Type: image/jpg\\r\\n\\r\\n' + base64.b64decode(msg.value['image_bytes']) + b'\\r\\n\\r\\n')\n",
    "           \n",
    "if __name__ == \"__main__\":\n",
    "    try:\n",
    "        app.run(host='0.0.0.0', debug=True)\n",
    "    except Exception as e:\n",
    "        print(e)"
   ]
  },
  {
   "cell_type": "code",
   "execution_count": null,
   "metadata": {
    "collapsed": true
   },
   "outputs": [],
   "source": []
  }
 ],
 "metadata": {
  "kernelspec": {
   "display_name": "Python 3",
   "language": "python",
   "name": "python3"
  },
  "language_info": {
   "codemirror_mode": {
    "name": "ipython",
    "version": 3
   },
   "file_extension": ".py",
   "mimetype": "text/x-python",
   "name": "python",
   "nbconvert_exporter": "python",
   "pygments_lexer": "ipython3",
   "version": "3.6.2"
  }
 },
 "nbformat": 4,
 "nbformat_minor": 2
}
